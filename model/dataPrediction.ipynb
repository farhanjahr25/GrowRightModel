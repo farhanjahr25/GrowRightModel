{
 "cells": [
  {
   "cell_type": "code",
   "execution_count": 1,
   "id": "91965d47-ca2c-4ad6-a2ad-0862b3890ca3",
   "metadata": {},
   "outputs": [],
   "source": [
    "import pandas as pd\n",
    "from sklearn.preprocessing import MinMaxScaler\n",
    "from sklearn.model_selection import train_test_split\n",
    "import joblib\n",
    "import numpy as np\n",
    "import tensorflow as tf"
   ]
  },
  {
   "cell_type": "code",
   "execution_count": 2,
   "id": "569d8467-b22f-4272-9ca8-45ffb0b1aced",
   "metadata": {},
   "outputs": [],
   "source": [
    "data = pd.read_csv('data/cleaned_data.csv')"
   ]
  },
  {
   "cell_type": "code",
   "execution_count": 3,
   "id": "47b807f6-6020-4104-b28f-e6fb58847f34",
   "metadata": {},
   "outputs": [
    {
     "data": {
      "text/html": [
       "<div>\n",
       "<style scoped>\n",
       "    .dataframe tbody tr th:only-of-type {\n",
       "        vertical-align: middle;\n",
       "    }\n",
       "\n",
       "    .dataframe tbody tr th {\n",
       "        vertical-align: top;\n",
       "    }\n",
       "\n",
       "    .dataframe thead th {\n",
       "        text-align: right;\n",
       "    }\n",
       "</style>\n",
       "<table border=\"1\" class=\"dataframe\">\n",
       "  <thead>\n",
       "    <tr style=\"text-align: right;\">\n",
       "      <th></th>\n",
       "      <th>gender</th>\n",
       "      <th>age</th>\n",
       "      <th>weight</th>\n",
       "      <th>height</th>\n",
       "      <th>zs_weight_age</th>\n",
       "      <th>zs_height_age</th>\n",
       "      <th>zs_weight_height</th>\n",
       "      <th>totalzs_3</th>\n",
       "      <th>totalzs_percentage</th>\n",
       "    </tr>\n",
       "  </thead>\n",
       "  <tbody>\n",
       "    <tr>\n",
       "      <th>0</th>\n",
       "      <td>male</td>\n",
       "      <td>35</td>\n",
       "      <td>10.08</td>\n",
       "      <td>86.08</td>\n",
       "      <td>-2.56</td>\n",
       "      <td>-2.52</td>\n",
       "      <td>-1.73</td>\n",
       "      <td>-2.270000</td>\n",
       "      <td>75.67</td>\n",
       "    </tr>\n",
       "    <tr>\n",
       "      <th>1</th>\n",
       "      <td>male</td>\n",
       "      <td>18</td>\n",
       "      <td>8.05</td>\n",
       "      <td>79.00</td>\n",
       "      <td>-2.53</td>\n",
       "      <td>-1.33</td>\n",
       "      <td>-2.65</td>\n",
       "      <td>-2.170000</td>\n",
       "      <td>72.33</td>\n",
       "    </tr>\n",
       "    <tr>\n",
       "      <th>2</th>\n",
       "      <td>female</td>\n",
       "      <td>46</td>\n",
       "      <td>12.02</td>\n",
       "      <td>93.07</td>\n",
       "      <td>-2.01</td>\n",
       "      <td>-1.96</td>\n",
       "      <td>-1.24</td>\n",
       "      <td>-1.736667</td>\n",
       "      <td>57.89</td>\n",
       "    </tr>\n",
       "    <tr>\n",
       "      <th>3</th>\n",
       "      <td>male</td>\n",
       "      <td>44</td>\n",
       "      <td>12.07</td>\n",
       "      <td>93.00</td>\n",
       "      <td>-1.90</td>\n",
       "      <td>-1.99</td>\n",
       "      <td>-1.16</td>\n",
       "      <td>-1.683333</td>\n",
       "      <td>56.11</td>\n",
       "    </tr>\n",
       "    <tr>\n",
       "      <th>4</th>\n",
       "      <td>male</td>\n",
       "      <td>46</td>\n",
       "      <td>18.07</td>\n",
       "      <td>101.00</td>\n",
       "      <td>1.13</td>\n",
       "      <td>-0.30</td>\n",
       "      <td>0.10</td>\n",
       "      <td>0.310000</td>\n",
       "      <td>10.33</td>\n",
       "    </tr>\n",
       "  </tbody>\n",
       "</table>\n",
       "</div>"
      ],
      "text/plain": [
       "   gender  age  weight  height  zs_weight_age  zs_height_age  \\\n",
       "0    male   35   10.08   86.08          -2.56          -2.52   \n",
       "1    male   18    8.05   79.00          -2.53          -1.33   \n",
       "2  female   46   12.02   93.07          -2.01          -1.96   \n",
       "3    male   44   12.07   93.00          -1.90          -1.99   \n",
       "4    male   46   18.07  101.00           1.13          -0.30   \n",
       "\n",
       "   zs_weight_height  totalzs_3  totalzs_percentage  \n",
       "0             -1.73  -2.270000               75.67  \n",
       "1             -2.65  -2.170000               72.33  \n",
       "2             -1.24  -1.736667               57.89  \n",
       "3             -1.16  -1.683333               56.11  \n",
       "4              0.10   0.310000               10.33  "
      ]
     },
     "execution_count": 3,
     "metadata": {},
     "output_type": "execute_result"
    }
   ],
   "source": [
    "data.head()"
   ]
  },
  {
   "cell_type": "code",
   "execution_count": 4,
   "id": "21fda3bd-ff77-4123-a525-061d3b15f20b",
   "metadata": {},
   "outputs": [],
   "source": [
    "def genderEncode(gender, age, weight, height):\n",
    "    # Make dictionary for label encoding\n",
    "    gender_encoding = {'male': 1, 'female': 0}\n",
    "    # Encode gender\n",
    "    gender_encoded = gender_encoding.get(gender)\n",
    "    return gender_encoded, age, weight, height\n",
    "\n",
    "def normalize_data(gender_encoded, age, weight, height):\n",
    "    normalization_model = \"normalization_model.joblib\"\n",
    "    # Load the saved scaler using joblib\n",
    "    scaler = joblib.load(normalization_model)\n",
    "    feature = np.array([[gender_encoded, age, weight, height]])\n",
    "    # Normalize the data using Joblib\n",
    "    normalized_data = scaler.transform(feature)\n",
    "    return normalized_data\n",
    "\n",
    "def stunting_percentage(normalize_data):\n",
    "    # Load the TensorFlow model\n",
    "    model = \"model.h5\"\n",
    "    model = tf.keras.models.load_model(model)\n",
    "    predictions = model.predict(normalize_data)\n",
    "    return predictions"
   ]
  },
  {
   "cell_type": "code",
   "execution_count": 5,
   "id": "7a3adc10-b4ff-4262-9cc2-7080763fa463",
   "metadata": {},
   "outputs": [
    {
     "data": {
      "text/plain": [
       "(1, 35, 10.08, 86.08)"
      ]
     },
     "execution_count": 5,
     "metadata": {},
     "output_type": "execute_result"
    }
   ],
   "source": [
    "genderEncode(\"male\", 35, 10.08, 86.08)"
   ]
  },
  {
   "cell_type": "code",
   "execution_count": 6,
   "id": "a88f29d8-e7b4-4f97-b20f-510ce6655fc8",
   "metadata": {},
   "outputs": [
    {
     "name": "stderr",
     "output_type": "stream",
     "text": [
      "D:\\GrowRight\\lib\\site-packages\\sklearn\\base.py:465: UserWarning: X does not have valid feature names, but MinMaxScaler was fitted with feature names\n",
      "  warnings.warn(\n"
     ]
    }
   ],
   "source": [
    "x = normalize_data(1, 35, 10.08, 86.08)"
   ]
  },
  {
   "cell_type": "code",
   "execution_count": 7,
   "id": "1bf0f15a-2133-406e-b368-a521471225f3",
   "metadata": {},
   "outputs": [
    {
     "name": "stdout",
     "output_type": "stream",
     "text": [
      "1/1 [==============================] - 0s 109ms/step\n"
     ]
    },
    {
     "data": {
      "text/plain": [
       "array([[-2.5005674, -2.153793 , -1.9242857, -2.1931853, 72.22465  ]],\n",
       "      dtype=float32)"
      ]
     },
     "execution_count": 7,
     "metadata": {},
     "output_type": "execute_result"
    }
   ],
   "source": [
    "stunting_percentage(x)"
   ]
  },
  {
   "cell_type": "code",
   "execution_count": 8,
   "id": "e654f175-2b2b-4ac2-81db-f9afcb2e6ee9",
   "metadata": {},
   "outputs": [
    {
     "data": {
      "text/plain": [
       "(0, 46, 12.02, 93.07)"
      ]
     },
     "execution_count": 8,
     "metadata": {},
     "output_type": "execute_result"
    }
   ],
   "source": [
    "genderEncode(\"female\", 46, 12.02, 93.07\t)"
   ]
  },
  {
   "cell_type": "code",
   "execution_count": 9,
   "id": "5ae1302f-c77e-4204-a360-ea7ead0680cb",
   "metadata": {},
   "outputs": [
    {
     "name": "stderr",
     "output_type": "stream",
     "text": [
      "D:\\GrowRight\\lib\\site-packages\\sklearn\\base.py:465: UserWarning: X does not have valid feature names, but MinMaxScaler was fitted with feature names\n",
      "  warnings.warn(\n"
     ]
    }
   ],
   "source": [
    "x = normalize_data(0, 46, 12.02, 93.07)"
   ]
  },
  {
   "cell_type": "code",
   "execution_count": 10,
   "id": "5898e427-1f87-4f3b-9862-a3e7c308e72e",
   "metadata": {},
   "outputs": [
    {
     "name": "stdout",
     "output_type": "stream",
     "text": [
      "1/1 [==============================] - 0s 66ms/step\n"
     ]
    },
    {
     "data": {
      "text/plain": [
       "array([[-1.7859535, -1.6997411, -1.0677354, -1.4843321, 52.23275  ]],\n",
       "      dtype=float32)"
      ]
     },
     "execution_count": 10,
     "metadata": {},
     "output_type": "execute_result"
    }
   ],
   "source": [
    "stunting_percentage(x)"
   ]
  },
  {
   "cell_type": "code",
   "execution_count": null,
   "id": "a7402f9f-633e-4325-8610-cb66f217f0c9",
   "metadata": {},
   "outputs": [],
   "source": []
  }
 ],
 "metadata": {
  "kernelspec": {
   "display_name": "Python 3 (ipykernel)",
   "language": "python",
   "name": "python3"
  },
  "language_info": {
   "codemirror_mode": {
    "name": "ipython",
    "version": 3
   },
   "file_extension": ".py",
   "mimetype": "text/x-python",
   "name": "python",
   "nbconvert_exporter": "python",
   "pygments_lexer": "ipython3",
   "version": "3.8.10"
  }
 },
 "nbformat": 4,
 "nbformat_minor": 5
}
